{
 "cells": [
  {
   "cell_type": "code",
   "execution_count": 1,
   "metadata": {},
   "outputs": [],
   "source": [
    "import numpy as np\n",
    "import pandas as pd\n",
    "from sklearn import preprocessing\n",
    "from sklearn.decomposition import PCA\n",
    "import matplotlib.pyplot as plt"
   ]
  },
  {
   "cell_type": "markdown",
   "metadata": {},
   "source": [
    "<span style=\"color: red;\">\n",
    "<div dir='rtl'>\n",
    "\n",
    "<b> نام و نام‌‌خانوادگی: سید احسان حسن بیگی</b>\n",
    "\n",
    "<b> شماره دانشجویی: ۴۰۲۲۱۱۷۲۳</b>\n",
    "\n",
    "</span>"
   ]
  },
  {
   "cell_type": "markdown",
   "metadata": {},
   "source": [
    "<div dir='rtl'>\n",
    "<h1> \n",
    "مقدمه\n",
    "</h1>\n",
    "<p>\n",
    "در این تمرین قصد داریم به مباحث زیر بپردازیم:\n",
    "<li> کاهش ابعاد </li>\n",
    "<li> خوشه‌بندی متن و هرس‌کردن خوشه‌ها</li>\n",
    "\n",
    "کتابخانه‌های مورد نظرتان را هم می‌توانید در اولین سل نوت‌بوک فراخوانی کنید. \n",
    "\n",
    "تمرین درباره ی خوشه بندی اهنگ های مشابه در اپ اسپاتیفای است که از دیتاستی از سایت کگل برداشته شده است.\n",
    "</p>\n",
    "</div>"
   ]
  },
  {
   "cell_type": "markdown",
   "metadata": {},
   "source": [
    "<div dir=\"rtl\">\n",
    "<h1>\n",
    "لود دیتا</h1>\n",
    "</div>"
   ]
  },
  {
   "cell_type": "markdown",
   "metadata": {},
   "source": [
    "<div dir=\"rtl\">\n",
    "در این بخش باید دیتا را لود کرده و در انتها فقط نام آهنگ و فیچر هایی که به نظرتان مفید است را با ذکر علتی کوتاه نگه دارید. \n",
    "</div>"
   ]
  },
  {
   "cell_type": "code",
   "execution_count": 2,
   "metadata": {},
   "outputs": [],
   "source": [
    "data = pd.read_csv(\"datasets/spotify.csv\")\n",
    "data = data.dropna()\n",
    "\n",
    "# merge rows with the same 'track_id' and replace numeric columns with the mean\n",
    "# replace numeric columns with the mean\n",
    "# replace non-numeric columns with the most frequent value\n",
    "# numeric_columns = data.select_dtypes(include=[\"number\"]).columns.tolist()\n",
    "# non_numeric_columns = data.select_dtypes(exclude=[\"number\"]).columns.tolist()\n",
    "# data = data.groupby(\"track_id\", as_index=False).agg(\n",
    "#     {\n",
    "#         **{col: \"mean\" for col in numeric_columns},\n",
    "#         **{col: lambda x: x.mode().iloc[0] for col in non_numeric_columns},\n",
    "#     }\n",
    "# )\n",
    "\n",
    "garbage_cols = [\"track_id\", \"track_album_id\", \"playlist_id\", \"playlist_name\"]\n",
    "data = data.drop(columns=garbage_cols, axis=1)"
   ]
  },
  {
   "cell_type": "code",
   "execution_count": 3,
   "metadata": {},
   "outputs": [],
   "source": [
    "non_numeric_columns = data.select_dtypes(exclude=[\"number\"]).columns.tolist()\n",
    "for col in non_numeric_columns:\n",
    "    le = preprocessing.LabelEncoder()\n",
    "    data[col] = le.fit_transform(data[col])\n",
    "    if col == 'track_name':\n",
    "        track_name_le = le\n",
    "\n",
    "# data['track_name'] = track_name_le.inverse_transform(data['track_name'])"
   ]
  },
  {
   "cell_type": "markdown",
   "metadata": {},
   "source": [
    "<div dir=\"rtl\">\n",
    "توضیح دهید که دیتای scale نشده چه مشکلی میتواند برای خوشه بندی ایجاد کند?\n",
    "<br>\n",
    "در این cell باید یک standard scalar را از صفر پیاده سازی نمایید. تا برای قسمت های بعدی یک دیتای مناسب داشته باشید.\n",
    "</div>"
   ]
  },
  {
   "cell_type": "code",
   "execution_count": 4,
   "metadata": {},
   "outputs": [],
   "source": [
    "# standardization\n",
    "def standardize(df, numeric_columns=None):\n",
    "    if numeric_columns is None:\n",
    "        numeric_columns = df.select_dtypes(include=[\"number\"]).columns.tolist()\n",
    "\n",
    "    column_stats = {}\n",
    "    for col in numeric_columns:\n",
    "        mean = df[numeric_columns][col].mean()\n",
    "        std = df[numeric_columns][col].std()\n",
    "        column_stats[col] = {'mean': mean, 'std': std}\n",
    "\n",
    "        df[col] = (df[col] - mean) / std\n",
    "\n",
    "    return df, column_stats"
   ]
  },
  {
   "cell_type": "markdown",
   "metadata": {},
   "source": [
    "<div dir=\"rtl\">\n",
    "<h1>\n",
    "کاهش ابعاد\n",
    "</h1>\n",
    "</div>"
   ]
  },
  {
   "cell_type": "markdown",
   "metadata": {},
   "source": [
    "<div dir=\"rtl\">\n",
    "یکی از روش‌های کاهش ابعاد، PCA است. با استفاده از پیاده‌سازی آن در کتابخانه sklearn، ابعاد ویژگی‌ را کاهش دهید.\n",
    "<br>\n",
    "سپس با استفاده از explained_variance_ratio_ در الگوریتم PCA  نشان دهید که با وجود یک ترشولد مناسب  تا چه میزان میتوان ابعاد ویژگی ها را کم تر کرد.\n",
    "<br>\n",
    "برای ترشولدی که انتخاب کردید دلیل بیاورید و شهود این متغیر را توضیح دهید.\n",
    "</div>"
   ]
  },
  {
   "cell_type": "code",
   "execution_count": 5,
   "metadata": {},
   "outputs": [],
   "source": [
    "def reduce_dimension(embedding, n_components=None):\n",
    "    \"\"\"\n",
    "    Performs dimensional reduction using PCA with n components left behind\n",
    "\n",
    "    Parameters\n",
    "    ----------\n",
    "    embeddings : List\n",
    "        A list of embeddings of documents\n",
    "\n",
    "    n_components: int\n",
    "        Number of components to keep\n",
    "\n",
    "    Returns a list of reduced embeddings\n",
    "    \"\"\"\n",
    "    pca = PCA(n_components)\n",
    "    pca.fit(embedding)\n",
    "    explained_variance_ratio = pca.explained_variance_ratio_\n",
    "    print(\n",
    "        f\"Explained Variance Ratio for Each PC: {explained_variance_ratio} \\nwith len= {len(explained_variance_ratio)}\"\n",
    "    )\n",
    "    return pca.transform(embedding)"
   ]
  },
  {
   "cell_type": "code",
   "execution_count": 6,
   "metadata": {},
   "outputs": [
    {
     "name": "stdout",
     "output_type": "stream",
     "text": [
      "Explained Variance Ratio for Each PC: [0.11945797 0.09885676] \n",
      "with len= 2\n",
      "\n",
      "(32828, 2)\n"
     ]
    }
   ],
   "source": [
    "\n",
    "normalized_data, raw_data_column_stats = standardize(data)\n",
    "latent_data = reduce_dimension(normalized_data, .2)\n",
    "print(latent_data.shape)"
   ]
  },
  {
   "cell_type": "code",
   "execution_count": 7,
   "metadata": {},
   "outputs": [],
   "source": [
    "# TODO: Findout the most reduced dimension which has a high cutoff explained variance. Write down the value of cut off and explain it."
   ]
  },
  {
   "cell_type": "markdown",
   "metadata": {},
   "source": [
    "<div dir=\"rtl\">\n",
    "<h2>\n",
    "خوشه‌بندی\n",
    "</h2>\n",
    "</div>"
   ]
  },
  {
   "cell_type": "markdown",
   "metadata": {},
   "source": [
    "<div dir=\"rtl\">\n",
    "در این قسمت، شما ابتدا الگوریتم خوشه‌بندی K-means را \n",
    "<u><b>از پایه</b></u>\n",
    " پیاده‌سازی می‌کنید.\n",
    "\n",
    "</div>"
   ]
  },
  {
   "cell_type": "code",
   "execution_count": 8,
   "metadata": {},
   "outputs": [],
   "source": [
    "class KMeans:\n",
    "    def __init__(self, n_clusters, max_steps=100, random_state=None):\n",
    "        self.n_clusters = n_clusters\n",
    "        self.max_steps = max_steps\n",
    "        self.random_state = random_state\n",
    "        self.centroids = None\n",
    "        self.cluster_indices = None\n",
    "\n",
    "    def fit(self, X):\n",
    "        np.random.seed(self.random_state)\n",
    "\n",
    "        # randomly initialize centroids\n",
    "        self.centroids = X[np.random.choice(X.shape[0], self.n_clusters, replace=False)]\n",
    "\n",
    "        for _ in range(self.max_steps):\n",
    "            self.cluster_indices = self.__get_new_clusters(X)\n",
    "            new_centroids = self.__get_new_centroids(X)\n",
    "            \n",
    "            # check for convergence\n",
    "            if np.all(new_centroids == self.centroids):\n",
    "                break\n",
    "\n",
    "            self.centroids = new_centroids\n",
    "\n",
    "        return self.centroids, self.cluster_indices\n",
    "\n",
    "    def __get_new_clusters(self, X):\n",
    "        # adding new axis to calculate distances of each data point w.r.t all centroids\n",
    "        distances = np.linalg.norm(X[:, np.newaxis, :] - self.centroids, axis=2)\n",
    "        return np.argmin(distances, axis=1)\n",
    "\n",
    "    def __get_new_centroids(self, X):\n",
    "        new_centroids = np.array(\n",
    "            [X[self.cluster_indices == k].mean(axis=0) for k in range(self.n_clusters)]\n",
    "        )\n",
    "        return new_centroids\n",
    "    \n",
    "    # this method only works for 2D feature spaces\n",
    "    # call this after the fit method\n",
    "    def visualize(self):\n",
    "        for k in range(self.n_clusters):\n",
    "            cluster_points = latent_data[self.cluster_indices == k]\n",
    "            plt.scatter(cluster_points[:, 0], cluster_points[:, 1], label=f'Cluster {k + 1}')\n",
    "\n",
    "        plt.scatter(self.centroids[:, 0], self.centroids[:, 1], c='red', marker='X', label='Centroids')\n",
    "\n",
    "        plt.title('K-Means Clustering')\n",
    "        plt.xlabel('x1')\n",
    "        plt.ylabel('x2')\n",
    "        plt.legend()\n",
    "        plt.show()\n"
   ]
  },
  {
   "cell_type": "code",
   "execution_count": 9,
   "metadata": {},
   "outputs": [
    {
     "name": "stdout",
     "output_type": "stream",
     "text": [
      "final cluster indices: [3 3 3 ... 3 2 2]\n",
      "final centroids: [[ 0.21006319 -1.06640328]\n",
      " [ 1.73418892  1.42385695]\n",
      " [-0.47736657  1.56883078]\n",
      " [-1.45618992 -0.32784808]\n",
      " [ 2.85963222 -1.17451234]]\n"
     ]
    },
    {
     "data": {
      "image/png": "[encoded data removed]",
      "text/plain": [
       "<Figure size 640x480 with 1 Axes>"
      ]
     },
     "metadata": {},
     "output_type": "display_data"
    }
   ],
   "source": [
    "n_clusters = 5\n",
    "kmeans = KMeans(n_clusters=n_clusters)\n",
    "final_centroids, final_cluster_indices = kmeans.fit(latent_data)\n",
    "\n",
    "print(\"final cluster indices:\", final_cluster_indices)\n",
    "print(\"final centroids:\", final_centroids)\n",
    "\n",
    "kmeans.visualize()"
   ]
  },
  {
   "cell_type": "markdown",
   "metadata": {},
   "source": [
    "<div dir=\"rtl\">\n",
    " با استفاده از K-Means خوشه‌ها را ایجاد کنید. الگوریتم را با استفاده از چند مقدار مختلف تعداد خوشه‌ها (k) اجرا کنید. در هربار اجرا، با استفاده از تعدادی از اسناد موجود در هر خوشه، موضوع آن خوشه را تعیین کرده و خوشه‌بندی حاصله را با استفاده از بردار‌های دوبعدی قسمت قبل، رسم کنید. با اینکار، پیاده‌سازی خود و همچنین کارایی این الگوریتم در خوشه‌بندی اسناد و قرار دادن اسناد مشابه در خوشه‌های یکسان را بررسی کنید.\n",
    "<br>\n",
    "\n",
    " نمودار silhouette score برای مقدار‌های مختلف k را رسم کرده و silhouette analysis برای انتخاب k مناسب انجام دهید. \n",
    "<br>\n",
    "همچنین Within-Cluster Sum of Squares (WSS) را نیز محاسبه کرده و در نهایت این دو کار بهترین مقدار k  را بدست بیاورید.\n",
    "</div>"
   ]
  },
  {
   "cell_type": "code",
   "execution_count": 10,
   "metadata": {},
   "outputs": [],
   "source": [
    "\n",
    "def wss_score():\n",
    "    #TODO\n",
    "    pass\n",
    "\n",
    "def silhouette_score():\n",
    "    #TODO\n",
    "    pass"
   ]
  },
  {
   "cell_type": "code",
   "execution_count": 11,
   "metadata": {},
   "outputs": [],
   "source": [
    "# TODO: Calculate silhouette score and wss score"
   ]
  },
  {
   "cell_type": "code",
   "execution_count": 12,
   "metadata": {},
   "outputs": [],
   "source": [
    "# TODO: Plot silhouette score for different value of k "
   ]
  },
  {
   "cell_type": "code",
   "execution_count": 13,
   "metadata": {},
   "outputs": [],
   "source": [
    "#TODO: plot wss for different value of k "
   ]
  },
  {
   "cell_type": "markdown",
   "metadata": {},
   "source": [
    "<div dir=\"rtl\">\n",
    "با استفاده از نمودارهای رسم شده توضیح دهید بهترین k برای انتخاب در داده ما با استفاده از الگوریتم K-Means چیست؟\n",
    "چرا؟\n",
    "</div>"
   ]
  },
  {
   "cell_type": "markdown",
   "metadata": {},
   "source": [
    "<span style=\"color: red;\">#TODO: Write your answer in here.</span>"
   ]
  },
  {
   "cell_type": "markdown",
   "metadata": {},
   "source": [
    "<div dir=\"rtl\">\n",
    "<h2>\n",
    "بررسی خروجی</h2>\n",
    "</div>"
   ]
  },
  {
   "cell_type": "markdown",
   "metadata": {},
   "source": [
    "<div dir=\"rtl\">\n",
    "در این قسمت برای اینکه ببینیم چقدر خوب خوشه بندی را انجام داده ایم, از یک روش sample check و نیز TSNE استفاده خواهیم کرد.\n",
    "\n",
    "</div>"
   ]
  },
  {
   "cell_type": "markdown",
   "metadata": {},
   "source": [
    "<div dir=\"rtl\">\n",
    "در ابتدا به صورت رندوم از هر خوشه دو اهنگ را انتخاب کرده (با توجه به اینکه در بخش اول بایستی اسم اهنگ را نیز نگه میداشتید) و ببینید واقعا این اهنگ ها به هم نزدیک هستند یا خیر.\n",
    "نکته اینکه صرفا بررسی این عمل نمره دارد و نیازی به خیلی دقیق بودن خروجی نیست.\n",
    "</div>"
   ]
  },
  {
   "cell_type": "code",
   "execution_count": 14,
   "metadata": {},
   "outputs": [],
   "source": [
    "# TODO: Sample 2 songs from each cluster and compare them."
   ]
  },
  {
   "cell_type": "markdown",
   "metadata": {},
   "source": [
    "<div dir=\"rtl\">\n",
    "با استفاده از این T-SNE و کاهش ابعاد به 2 بعد نشان دهید که ایا خوشه بنده به خوبی انجام شده است یا خیر.\n",
    "\n",
    "</br>\n",
    "در صورت پیاده سازی تابع tsne  از ابتدا, نمره ی امتیازی به شما تعلق خواهد گرفت.\n",
    "</div>"
   ]
  },
  {
   "cell_type": "code",
   "execution_count": 15,
   "metadata": {},
   "outputs": [],
   "source": [
    "# TODO: Visualize the clusters "
   ]
  },
  {
   "cell_type": "code",
   "execution_count": 16,
   "metadata": {},
   "outputs": [],
   "source": [
    "# Bonus TODO: Implement TSNE from scratch"
   ]
  }
 ],
 "metadata": {
  "kernelspec": {
   "display_name": "Python 3 (ipykernel)",
   "language": "python",
   "name": "python3"
  },
  "language_info": {
   "codemirror_mode": {
    "name": "ipython",
    "version": 3
   },
   "file_extension": ".py",
   "mimetype": "text/x-python",
   "name": "python",
   "nbconvert_exporter": "python",
   "pygments_lexer": "ipython3",
   "version": "3.8.10"
  }
 },
 "nbformat": 4,
 "nbformat_minor": 2
}
